{
 "cells": [
  {
   "attachments": {
    "7790e2c5-0366-4ea6-9dd1-ee794d3ad6ee.PNG": {
     "image/png": "[encoded data removed]"
    }
   },
   "cell_type": "markdown",
   "metadata": {},
   "source": [
    "# Mini-Project: **Transit Riders' Health and Comfort Under Extreme Heat**\n",
    "\n",
    "Welcome to our mini-project on the health and comfort of transit riders under extreme heat conditions. As global temperatures rise, understanding the implications of extreme heat on transit riders becomes increasingly crucial. This project delves into the challenges faced by riders, offering insights into their experiences and suggesting potential mitigation strategies. We will walk through the process of visualizing temperature data, mapping a person's trajectory, and assessing their exposure to different heat conditions during their transit journey.\n",
    "\n",
    "\n",
    "## Copyright and License Information\n",
    "\n",
    "© September 2023 Huiying (\"Fizzy\") Fan, Hongyu Lu, Siddharth Sivakumar, Angshuman Guin, Randall Guensler, Georgia Institute of Technology. All rights reserved.\n",
    "\n",
    "This material is for personal use and is protected by law. Reproduction or distribution without explicit permission is prohibited.\n",
    "\n",
    "## Citations\n",
    "\n",
    "The development of this project is based on the following project. Please cite them properly:\n",
    "\n",
    "- **Fan, H., Lu, H., Sivakumar, S., Guin, A., & Guensler, R.** (2023). *Transit Equity under Extreme Temperature: An Exposure Analysis in Atlanta, GA*. Manuscript to be submitted by October 2023.\n",
    "\n",
    "- **Fan, H., Guin, A., & Guensler, R.** (2023) - *Using Multi-Modal Path-Specific Transit Trips in Transportation Social Sustainability Analysis: Case Study in Atlanta, GA*. Research Report from the National Center for Sustainable Transportation. August 2023.\n",
    "\n",
    "![division2.PNG](attachment:7790e2c5-0366-4ea6-9dd1-ee794d3ad6ee.PNG)\n",
    "\n",
    "\n",
    "## Table of Contents\n",
    "- **Visualizing the Temperature Data**\n",
    "- **Mapping the Person's Trajectory**\n",
    "- **Calculating the Heat Index**\n",
    "- **Categorizing Heat Exposure**\n",
    "- **Analyzing Travel Conditions by Mode**\n",
    "- **Final Thoughts**"
   ]
  },
  {
   "cell_type": "code",
   "execution_count": null,
   "metadata": {},
   "outputs": [],
   "source": [
    "import os\n",
    "import glob\n",
    "\n",
    "import numpy as np\n",
    "import pandas as pd\n",
    "import geopandas as gpd\n",
    "\n",
    "import rasterio\n",
    "from rasterio.plot import show\n",
    "import matplotlib.pyplot as plt\n",
    "import matplotlib.patches as mpatches\n",
    "import contextily as ctx"
   ]
  },
  {
   "cell_type": "code",
   "execution_count": null,
   "metadata": {},
   "outputs": [],
   "source": [
    "TEMP_PATH = './project_heat'\n",
    "SEC_TRAJ_PATH = './data/postproc/traj_sec_by_sec'"
   ]
  },
  {
   "attachments": {
    "c1aea8b9-aa6c-4a8e-9703-0e6dff6974f0.PNG": {
     "image/png": "[encoded data removed]"
    }
   },
   "cell_type": "markdown",
   "metadata": {},
   "source": [
    "![division3.PNG](attachment:c1aea8b9-aa6c-4a8e-9703-0e6dff6974f0.PNG)\n",
    "\n",
    "## 1. **Visualizing the Temperature Data**\n",
    "\n",
    "Before diving into the transit data, let's first take a look at the temperature data we have. The temperature data is derived from land surface temperature from Landsat imagery."
   ]
  },
  {
   "cell_type": "code",
   "execution_count": null,
   "metadata": {},
   "outputs": [],
   "source": [
    "# Open the raster file\n",
    "with rasterio.open(os.path.join(TEMP_PATH, 'lst.tif')) as src:\n",
    "    # Read the raster data\n",
    "    temperature_array = src.read(1)\n",
    "    # Mask values below 50\n",
    "    temperature_array = np.ma.masked_less(temperature_array, 50)\n",
    "    # Get the bounds and other metadata for later use\n",
    "    bounds = src.bounds\n",
    "    transform = src.transform\n",
    "\n",
    "# Plot the temperature to see it\n",
    "fig, ax = plt.subplots(figsize=(10, 10))\n",
    "show(temperature_array, ax=ax, transform=transform, cmap='inferno', vmin=50, vmax=100)\n",
    "ax.set_title(\"Temperature Map\")\n",
    "\n",
    "# Add legend\n",
    "cax = fig.add_axes([0.9, 0.1, 0.03, 0.8])\n",
    "sm = plt.cm.ScalarMappable(cmap='inferno', norm=plt.Normalize(vmin=50, vmax=100))\n",
    "sm._A = []\n",
    "fig.colorbar(sm, cax=cax, ticks=list(range(50, 101, 10)))\n",
    "ax.axis('off')\n",
    "plt.show()"
   ]
  },
  {
   "cell_type": "markdown",
   "metadata": {},
   "source": [
    "The map above shows the temperature distribution in our study area. Areas with warmer colors indicate higher temperatures.\r\n"
   ]
  },
  {
   "attachments": {
    "1e71e9f7-6ad2-4fcc-8baa-968da9bd8675.PNG": {
     "image/png": "[encoded data removed]"
    }
   },
   "cell_type": "markdown",
   "metadata": {},
   "source": [
    "![division3.PNG](attachment:1e71e9f7-6ad2-4fcc-8baa-968da9bd8675.PNG)\n",
    "\n",
    "## 2. **Mapping the Person's Trajectory and Temperature**\n",
    "Now, let's map out a person's trajectory and overlay it with temperature data to understand the conditions they experience during their journey.\r\n"
   ]
  },
  {
   "cell_type": "markdown",
   "metadata": {},
   "source": [
    "Select a `trip_id` that you want to work with"
   ]
  },
  {
   "cell_type": "code",
   "execution_count": null,
   "metadata": {},
   "outputs": [],
   "source": [
    "trip_id = 'trip_00003'"
   ]
  },
  {
   "cell_type": "markdown",
   "metadata": {},
   "source": [
    "Now, we will obtain temperature data from the map above, using coordinates of our second-by-second trajectory:"
   ]
  },
  {
   "cell_type": "code",
   "execution_count": null,
   "metadata": {},
   "outputs": [],
   "source": [
    "# read the trajectory file\n",
    "traj = pd.read_csv(os.path.join(SEC_TRAJ_PATH, f'{trip_id}.csv'))\n",
    "traj = gpd.GeoDataFrame(traj, geometry=gpd.points_from_xy(traj.lon, traj.lat))\n",
    "traj = traj.set_crs('EPSG:4269')\n",
    "\n",
    "# import all the temperature data\n",
    "lst = rasterio.open(os.path.join(TEMP_PATH, 'lst.tif'))\n",
    "rh = rasterio.open(os.path.join(TEMP_PATH, 'rh.bil'))\n",
    "wind = rasterio.open(os.path.join(TEMP_PATH, 'wind.tif'))\n",
    "\n",
    "# sample relative humidity\n",
    "traj = traj.to_crs(rh.crs)\n",
    "coords = [(x, y) for x, y in zip(traj['geometry'].x, traj['geometry'].y)]\n",
    "traj['Humidity'] = [x[0] for x in rh.sample(coords)]\n",
    "\n",
    "# sample temperature\n",
    "traj = traj.to_crs(wind.crs)\n",
    "coords = [(x, y) for x, y in zip(traj['geometry'].x, traj['geometry'].y)]\n",
    "traj['Wind Speed'] = [x[0] for x in wind.sample(coords)]\n",
    "traj['Wind Speed'] = 2.23693629 * traj['Wind Speed'] # to mph\n",
    "\n",
    "# sample temperature\n",
    "traj = traj.to_crs(lst.crs)\n",
    "coords = [(x, y) for x, y in zip(traj['geometry'].x, traj['geometry'].y)]\n",
    "traj['Temperature'] = [x[0] for x in lst.sample(coords)]\n",
    "\n",
    "# Let's look at the processed trajectory data\n",
    "traj.head(2)"
   ]
  },
  {
   "cell_type": "code",
   "execution_count": null,
   "metadata": {},
   "outputs": [],
   "source": [
    "# Plotting\n",
    "fig, ax = plt.subplots(figsize=(10, 10))\n",
    "traj = traj.to_crs('EPSG:3857')\n",
    "traj.plot(ax=ax, column='Temperature', cmap='inferno', legend=True, markersize=10, vmin=50, vmax=100)\n",
    "ctx.add_basemap(ax, source=ctx.providers.Stamen.TonerLite)\n",
    "ax.set_title(\"Temperature Trajectory\")\n",
    "ax.axis('off')\n",
    "plt.show()"
   ]
  },
  {
   "cell_type": "markdown",
   "metadata": {},
   "source": [
    "The map above shows the person's trajectory with color indicating the temperature at each point.\r\n",
    "\r\n"
   ]
  },
  {
   "attachments": {
    "4e91f811-bbae-4365-8016-df56ee67892a.PNG": {
     "image/png": "[encoded data removed]"
    }
   },
   "cell_type": "markdown",
   "metadata": {},
   "source": [
    "![division3.PNG](attachment:4e91f811-bbae-4365-8016-df56ee67892a.PNG)\n",
    "\n",
    "## 3. **Calculating the Heat Index**\n",
    "The heat index is a measure that combines temperature and humidity to determine the apparent temperature or how humans perceive the temperature. Let's calculate the heat index for our trajectory and visualize it. In this case, we use the National Weather Service's definition: https://www.weather.gov/ama/heatindexopy"
   ]
  },
  {
   "cell_type": "code",
   "execution_count": null,
   "metadata": {},
   "outputs": [],
   "source": [
    "def heat_index(T, RH):\n",
    "    HI = (-42.379 + \n",
    "          2.04901523*T + 10.14333127*RH - \n",
    "          0.22475541*T*RH - 0.00683783*T*T - 0.05481717*RH*RH + \n",
    "          0.00122874*T*T*RH + 0.00085282*T*RH*RH - \n",
    "          0.00000199*T*T*RH*RH)\n",
    "    if T < 80:\n",
    "        HI = T\n",
    "    elif RH < 13 and T > 80 and T < 120:\n",
    "        ADJUSTMENT = ((13-RH)/4)*np.sqrt((17-abs(T-95))/17)\n",
    "        HI = HI - ADJUSTMENT\n",
    "    elif RH > 85 and T > 80 and T < 87:\n",
    "        ADJUSTMENT = ((RH-85)/10) * ((87-T)/5)\n",
    "        HI = HI + ADJUSTMENT\n",
    "    if HI < 80:\n",
    "        HI = 0.5 * (T + 61.0 + ((T-68.0)*1.2) + (RH*0.094))\n",
    "    return(HI)"
   ]
  },
  {
   "cell_type": "code",
   "execution_count": null,
   "metadata": {},
   "outputs": [],
   "source": [
    "def heat_cat(HI):\n",
    "    cat = None\n",
    "    if HI >= 130:\n",
    "        cat = 'Extreme Danger'\n",
    "    elif HI >= 105:\n",
    "        cat = 'Danger'\n",
    "    elif HI >= 90:\n",
    "        cat = 'Extreme Caution'\n",
    "    elif HI >= 80:\n",
    "        cat = 'Caution'\n",
    "    else:\n",
    "        cat = 'Safe'\n",
    "    return(cat)"
   ]
  },
  {
   "cell_type": "markdown",
   "metadata": {},
   "source": [
    "Let's calculate the heat index for each location of our trip:"
   ]
  },
  {
   "cell_type": "code",
   "execution_count": null,
   "metadata": {},
   "outputs": [],
   "source": [
    "traj['Heat Index'] = traj.apply(lambda x: heat_index(x.Temperature, x.Humidity), axis=1)\n",
    "traj['heat_cat'] = [heat_cat(x) for x in traj['Heat Index']]\n",
    "#\n",
    "traj.head(2)"
   ]
  },
  {
   "cell_type": "code",
   "execution_count": null,
   "metadata": {},
   "outputs": [],
   "source": [
    "# Plotting\n",
    "fig, ax = plt.subplots(figsize=(10, 10))\n",
    "traj = traj.to_crs('EPSG:3857')\n",
    "traj.plot(ax=ax, column='Heat Index', cmap='inferno', legend=True, markersize=10, vmin=50, vmax=100)\n",
    "ctx.add_basemap(ax, source=ctx.providers.Stamen.TonerLite)\n",
    "ax.set_title(\"Heat Index Trajectory\")\n",
    "ax.axis('off')\n",
    "plt.show()"
   ]
  },
  {
   "cell_type": "markdown",
   "metadata": {},
   "source": [
    "The map above shows the person's trajectory with colors indicating different heat exposure categories.\r\n",
    "\r\n"
   ]
  },
  {
   "attachments": {
    "f10b5701-adde-4ca1-aae0-19420b4686b1.PNG": {
     "image/png": "[encoded data removed]"
    }
   },
   "cell_type": "markdown",
   "metadata": {},
   "source": [
    "![division3.PNG](attachment:f10b5701-adde-4ca1-aae0-19420b4686b1.PNG)\n",
    "\n",
    "## 4. **Categorizing Heat Exposure**\n",
    "Based on the heat index, we can categorize the conditions into different heat exposure categories. Let's visualize the person's trajectory based on these categories.\r\n"
   ]
  },
  {
   "cell_type": "code",
   "execution_count": null,
   "metadata": {},
   "outputs": [],
   "source": [
    "# Define a color map for the heat categories\n",
    "heat_colors = {\n",
    "    'Safe': 'green',\n",
    "    'Caution': 'yellow',\n",
    "    'Extreme Caution': 'orange',\n",
    "    'Danger': 'red',\n",
    "    'Extreme Danger': 'purple'\n",
    "}\n",
    "# Map the heat categories to their colors\n",
    "traj['color'] = traj['heat_cat'].map(heat_colors)\n",
    "# Plotting\n",
    "fig, ax = plt.subplots(figsize=(10, 10))\n",
    "traj = traj.to_crs('EPSG:3857')\n",
    "traj.plot(ax=ax, color=traj['color'], legend=True, markersize=10)\n",
    "ctx.add_basemap(ax, source=ctx.providers.Stamen.TonerLite)\n",
    "ax.set_title(\"Heat Category Trajectory\")\n",
    "\n",
    "# Create a custom legend\n",
    "legend_patches = [mpatches.Patch(color=color, label=category) for category, color in heat_colors.items()]\n",
    "ax.legend(handles=legend_patches, loc='upper right')\n",
    "ax.axis('off')\n",
    "plt.show()"
   ]
  },
  {
   "cell_type": "markdown",
   "metadata": {},
   "source": [
    "The map above shows the person's trajectory with colors indicating different heat exposure categories.\r\n",
    "\r\n"
   ]
  },
  {
   "attachments": {
    "e81f321c-904e-47ea-81f0-80e5524081e4.PNG": {
     "image/png": "[encoded data removed]"
    }
   },
   "cell_type": "markdown",
   "metadata": {},
   "source": [
    "![division3.PNG](attachment:e81f321c-904e-47ea-81f0-80e5524081e4.PNG)\n",
    "\n",
    "## 5. **Analyzing Travel Conditions by Mode**\n",
    "Finally, let's break down the person's travel conditions by mode of transit and visualize the time spent in each heat exposure category.\r\n"
   ]
  },
  {
   "cell_type": "code",
   "execution_count": null,
   "metadata": {},
   "outputs": [],
   "source": [
    "mode_dict = {\n",
    "    'walk_ingress':'walking',\n",
    "    'walking':'walking',\n",
    "    'walk_egress':'walking',\n",
    "    'waiting':'waiting',\n",
    "    'riding':'riding'\n",
    "}\n",
    "traj['mode'] = [mode_dict[x] for x in traj['mode']]"
   ]
  },
  {
   "cell_type": "markdown",
   "metadata": {},
   "source": [
    "Because most MARTA buses have air conditioning, so we will categorize all riding segments as \"safe\"."
   ]
  },
  {
   "cell_type": "code",
   "execution_count": null,
   "metadata": {},
   "outputs": [],
   "source": [
    "traj.loc[traj['mode'] == 'riding', 'heat_cat'] = 'Safe'"
   ]
  },
  {
   "cell_type": "markdown",
   "metadata": {},
   "source": [
    "We will then summarize the exposure:"
   ]
  },
  {
   "cell_type": "code",
   "execution_count": null,
   "metadata": {},
   "outputs": [],
   "source": [
    "temp_summary = pd.DataFrame(traj.groupby(['mode', 'heat_cat']).size())\n",
    "temp_summary.reset_index(inplace=True)\n",
    "temp_summary.columns=['mode','heat_cat','time_minutes']\n",
    "temp_summary['time_minutes'] = temp_summary['time_minutes']/60\n",
    "temp_summary"
   ]
  },
  {
   "cell_type": "code",
   "execution_count": null,
   "metadata": {},
   "outputs": [],
   "source": [
    "# Pivot the dataframe to get modes as index, heat categories as columns, and time_minutes as values\n",
    "df_pivot = temp_summary.pivot(index='mode', columns='heat_cat', values='time_minutes').fillna(0)\n",
    "\n",
    "# Define a color map for the heat categories\n",
    "heat_colors = {\n",
    "    'Safe': 'green',\n",
    "    'Caution': 'yellow',\n",
    "    'Extreme Caution': 'orange',\n",
    "    'Danger': 'red',\n",
    "    'Extreme Danger': 'purple'\n",
    "}\n",
    "\n",
    "# Plotting\n",
    "ax = df_pivot.plot(kind='barh', stacked=True, color=[heat_colors[col] for col in df_pivot.columns], figsize=(8,4))\n",
    "ax.set_ylabel('Time (minutes)')\n",
    "ax.set_title(\"Person's Travel Condition by Mode\")\n",
    "ax.legend(title='Heat Category')\n",
    "\n",
    "plt.tight_layout()\n",
    "plt.show()"
   ]
  },
  {
   "cell_type": "markdown",
   "metadata": {},
   "source": [
    "The chart above shows the time spent in each heat exposure category, broken down by mode of transit.\r\n",
    "\r\n"
   ]
  },
  {
   "attachments": {
    "f55de955-51d5-40bb-b40b-a67b32bf82c8.PNG": {
     "image/png": "[encoded data removed]"
    }
   },
   "cell_type": "markdown",
   "metadata": {},
   "source": [
    "![division3.PNG](attachment:f55de955-51d5-40bb-b40b-a67b32bf82c8.PNG)\n",
    "\n",
    "## 6. **Final Thoughts**\n",
    "\n",
    "If you will present your findings to ARC, what would you suggest?\n",
    "* Do you see any specific problems with our current system?\n",
    "* What would you suggest on transit operation?\n",
    "* What would you suggest on infrastructure planning in general?\n",
    "\n",
    "After the analysis, let's tie it back to TransitSim 4.0. Back to the questions raised at the beginning of the lecture. Do you have different answers to the questions? \n",
    "* How is transit modeling different from other types of networks? What will happen if this analysis is to be done with a spatial graph?\n",
    "* Is travel time enough for us to know all we need about a transit trip?\n",
    "* What's the advantage of having second-by-second trajectory?"
   ]
  }
 ],
 "metadata": {
  "colab": {
   "collapsed_sections": [
    "i3zDPacI2St4"
   ],
   "machine_shape": "hm",
   "provenance": []
  },
  "gpuClass": "standard",
  "kernelspec": {
   "display_name": "Python 3 (ipykernel)",
   "language": "python",
   "name": "python3"
  },
  "language_info": {
   "codemirror_mode": {
    "name": "ipython",
    "version": 3
   },
   "file_extension": ".py",
   "mimetype": "text/x-python",
   "name": "python",
   "nbconvert_exporter": "python",
   "pygments_lexer": "ipython3",
   "version": "3.9.17"
  }
 },
 "nbformat": 4,
 "nbformat_minor": 4
}
