{
 "cells": [
  {
   "attachments": {
    "7790e2c5-0366-4ea6-9dd1-ee794d3ad6ee.PNG": {
     "image/png": "[encoded data removed]"
    }
   },
   "cell_type": "markdown",
   "metadata": {},
   "source": [
    "# Mini-Project: **Food Desert: Accessibility by Average and Wheelchair Users**\n",
    "\n",
    "Welcome to our mini-project on Food Desert: Accessibility by Average and Wheelchair Users. As urban areas grapple with the challenges of food deserts and ensuring equitable access to essential services, understanding the transit experiences of different user groups becomes important. This mini-project dives deep into transit accessibility, particularly on the experiences of both average and wheelchair users. You will be guided through the steps of visualizing origin-destination data, aggregating transit metrics, and evaluating the time spent by travelers in various transit modes. Together, we'll uncover insights and explore the implications of these findings for urban planning and transit policy.\n",
    "\n",
    "\n",
    "## Copyright and License Information\n",
    "\n",
    "© September 2023 Huiying (\"Fizzy\") Fan, Reid Passmore, Randall Guensler, Georgia Institute of Technology. All rights reserved.\n",
    "\n",
    "This material is for personal use and is protected by law. Reproduction or distribution without explicit permission is prohibited.\n",
    "\n",
    "## Citations\n",
    "\n",
    "The development of this project is based on the following project. Please cite them properly:\n",
    "\n",
    "- **Passmore, R., Fan, H., & Guensler, R.** (2023) - *Shortest Path Routing Lab. CEE/CP6702 Urban Transportation Lab [lecture]. Georgia Institute of Technology*\n",
    "\n",
    "- **Fan, H., Guin, A., & Guensler, R.** (2023) - *Using Multi-Modal Path-Specific Transit Trips in Transportation Social Sustainability Analysis: Case Study in Atlanta, GA*. Research Report from the National Center for Sustainable Transportation. August 2023.\n",
    "\n",
    "![division2.PNG](attachment:7790e2c5-0366-4ea6-9dd1-ee794d3ad6ee.PNG)\n",
    "\n",
    "\n",
    "## Table of Contents\n",
    "- **Visualizing Origins and Destinations**\n",
    "- **Data Aggregation and Transformation**\n",
    "- **Average Time Spent by Each Traveler in Each Mode**\n",
    "- **Spatial Visualization of Riding, Walking, and Combined Metrics**\n",
    "- **Adjusting Walking Time for Wheelchair Users**\n",
    "- **Comparative Visualization for Average and Wheelchair Users**\n",
    "- **Final Thoughts**"
   ]
  },
  {
   "cell_type": "code",
   "execution_count": null,
   "metadata": {},
   "outputs": [],
   "source": [
    "import os\n",
    "import glob\n",
    "\n",
    "import numpy as np\n",
    "import pandas as pd\n",
    "import geopandas as gpd\n",
    "\n",
    "import rasterio\n",
    "from rasterio.plot import show\n",
    "import matplotlib.pyplot as plt\n",
    "import matplotlib.patches as mpatches\n",
    "import contextily as ctx"
   ]
  },
  {
   "cell_type": "code",
   "execution_count": null,
   "metadata": {},
   "outputs": [],
   "source": [
    "O_D_PATH = './project_food/o_d_info.csv'\n",
    "TRIP_PATH = './data/sample/trips.csv'\n",
    "INT_TRAJ_PATH = './data/postproc/traj_integrated'"
   ]
  },
  {
   "attachments": {
    "c1aea8b9-aa6c-4a8e-9703-0e6dff6974f0.PNG": {
     "image/png": "[encoded data removed]"
    }
   },
   "cell_type": "markdown",
   "metadata": {},
   "source": [
    "![division3.PNG](attachment:c1aea8b9-aa6c-4a8e-9703-0e6dff6974f0.PNG)\n",
    "\n",
    "## 1. **Visualizing Origins and Destinations**\n",
    "\n",
    "The trips data that has been given to you are actually a series of households and a series of grocery stops. The trips are from every household to every grocery location. In this section, we will have a better understanding of this data. \n"
   ]
  },
  {
   "cell_type": "code",
   "execution_count": null,
   "metadata": {},
   "outputs": [],
   "source": [
    "o_d_info = pd.read_csv(O_D_PATH)\n",
    "trips = pd.read_csv(TRIP_PATH)"
   ]
  },
  {
   "cell_type": "code",
   "execution_count": null,
   "metadata": {},
   "outputs": [],
   "source": [
    "o_d_info.head()"
   ]
  },
  {
   "cell_type": "code",
   "execution_count": null,
   "metadata": {},
   "outputs": [],
   "source": [
    "df_trips = o_d_info.merge(trips, how='left', on='trip_id')\n",
    "df_ori = df_trips.groupby(['ori'])[['ori_lat', 'ori_lon']].agg('first').reset_index()\n",
    "df_dest = df_trips.groupby(['dest'])[['dest_lat', 'dest_lon']].agg('first').reset_index()"
   ]
  },
  {
   "cell_type": "code",
   "execution_count": null,
   "metadata": {},
   "outputs": [],
   "source": [
    "# Convert to GeoDataFrame\n",
    "gdf_dest = gpd.GeoDataFrame(df_dest, geometry=gpd.points_from_xy(df_dest.dest_lon, df_dest.dest_lat), crs=\"EPSG:4326\")\n",
    "gdf_ori = gpd.GeoDataFrame(df_ori, geometry=gpd.points_from_xy(df_ori.ori_lon, df_ori.ori_lat), crs=\"EPSG:4326\")\n",
    "\n",
    "# Plotting\n",
    "fig, ax = plt.subplots(figsize=(10, 10))\n",
    "\n",
    "# Convert CRS for plotting with contextily\n",
    "gdf_dest = gdf_dest.to_crs(epsg=3857)\n",
    "gdf_ori = gdf_ori.to_crs(epsg=3857)\n",
    "\n",
    "gdf_dest.plot(ax=ax, markersize=50, color='red', label='Destinations')\n",
    "gdf_ori.plot(ax=ax, markersize=50, color='blue', label='Origins')\n",
    "\n",
    "# Add basemap\n",
    "ctx.add_basemap(ax, source=ctx.providers.Stamen.TonerLite)\n",
    "\n",
    "# Add legend and title\n",
    "ax.legend()\n",
    "ax.set_title(\"Origins and Destinations\")\n",
    "ax.axis('off')\n",
    "plt.show()"
   ]
  },
  {
   "cell_type": "markdown",
   "metadata": {},
   "source": [
    "The map above shows the temperature distribution in our study area. Areas with warmer colors indicate higher temperatures.\n"
   ]
  },
  {
   "attachments": {
    "1e71e9f7-6ad2-4fcc-8baa-968da9bd8675.PNG": {
     "image/png": "[encoded data removed]"
    }
   },
   "cell_type": "markdown",
   "metadata": {},
   "source": [
    "![division3.PNG](attachment:1e71e9f7-6ad2-4fcc-8baa-968da9bd8675.PNG)\n",
    "\n",
    "## 2. **Data Aggregation and Transformation**\n",
    "Now, we will aggregate our data and transform it to get a summarized view. This involves reading multiple files, aggregating travel times, and categorizing different modes of the transit trip."
   ]
  },
  {
   "cell_type": "code",
   "execution_count": null,
   "metadata": {},
   "outputs": [],
   "source": [
    "all_files = [f for f in os.listdir(INT_TRAJ_PATH) if f.endswith('.csv')]\n",
    "dfs = []\n",
    "\n",
    "for file in all_files:\n",
    "    trip_id = file.split('.')[0]  # Extract trip_id from filename\n",
    "    df = pd.read_csv(os.path.join(INT_TRAJ_PATH, file))\n",
    "    df.loc[df['mode'].isin(['walk_ingress','walk_egress']), 'mode'] = 'walking'\n",
    "    df.loc[df['mode']=='correspondence', 'mode'] = 'boarding/alighting'\n",
    "    \n",
    "    # For correspondence mode, count the number of occurrences\n",
    "    correspondence_count = df[df['mode'] == 'boarding/alighting'].shape[0]\n",
    "    \n",
    "    # For other modes, aggregate the sum of tt_seconds\n",
    "    summary = df[df['mode'] != 'boarding/alighting'].groupby('mode')['tt_seconds'].sum()\n",
    "    summary = summary/60 # transform to minutes\n",
    "    \n",
    "    # Add the correspondence count to the summary\n",
    "    summary['boarding/alighting'] = correspondence_count\n",
    "    \n",
    "    summary.name = trip_id\n",
    "    dfs.append(summary)\n",
    "\n",
    "# Concatenate all the DataFrames\n",
    "summary_df = pd.concat(dfs, axis=1).transpose()\n",
    "o_d_info.set_index('trip_id', inplace=True)\n",
    "summary_df['ori'] = o_d_info['ori']\n",
    "summary_df['dest'] = o_d_info['dest']"
   ]
  },
  {
   "cell_type": "code",
   "execution_count": null,
   "metadata": {},
   "outputs": [],
   "source": [
    "summary_df"
   ]
  },
  {
   "attachments": {
    "4e91f811-bbae-4365-8016-df56ee67892a.PNG": {
     "image/png": "[encoded data removed]"
    }
   },
   "cell_type": "markdown",
   "metadata": {},
   "source": [
    "![division3.PNG](attachment:4e91f811-bbae-4365-8016-df56ee67892a.PNG)\n",
    "\n",
    "## 3. **Average Time Spent by Each Traveler in Each Mode**\n",
    "With our data aggregated, let's visualize the average time each traveler spends in different modes of the transit trip. This will give us insights into the most time-consuming modes for each traveler\r\n",
    "."
   ]
  },
  {
   "cell_type": "code",
   "execution_count": null,
   "metadata": {},
   "outputs": [],
   "source": [
    "import pandas as pd\n",
    "import seaborn as sns\n",
    "import matplotlib.pyplot as plt\n",
    "\n",
    "# Drop the correspondence column\n",
    "df1 = summary_df.copy()\n",
    "df1 = df1.drop(columns=['boarding/alighting'])\n",
    "\n",
    "# Group by the ori column and compute the mean for each mode\n",
    "grouped = df1.groupby('ori').mean()\n",
    "\n",
    "# Reset the index for visualization\n",
    "grouped = grouped.reset_index()\n",
    "\n",
    "# Melt the dataframe for visualization\n",
    "melted = pd.melt(grouped, id_vars=['ori'], value_vars=grouped.columns[1:], \n",
    "                 var_name='mode', value_name='average_time')\n",
    "\n",
    "# Visualize using a bar chart\n",
    "plt.figure(figsize=(15, 7))\n",
    "sns.barplot(data=melted, x='ori', y='average_time', hue='mode')\n",
    "plt.title('Average Time Spent by Each Traveler in Each Mode')\n",
    "plt.ylabel('Average Time (minutes)')\n",
    "plt.xlabel('Traveler')\n",
    "plt.legend(title='Mode')\n",
    "plt.show()"
   ]
  },
  {
   "attachments": {
    "f10b5701-adde-4ca1-aae0-19420b4686b1.PNG": {
     "image/png": "[encoded data removed]"
    }
   },
   "cell_type": "markdown",
   "metadata": {},
   "source": [
    "![division3.PNG](attachment:f10b5701-adde-4ca1-aae0-19420b4686b1.PNG)\n",
    "\n",
    "## 4. **Spatial Visualization of Riding, Walking, and Combined Metrics**\n",
    "In this section, we will create spatial visualizations to understand the distribution of riding, walking, and their combined metrics across different origins."
   ]
  },
  {
   "cell_type": "code",
   "execution_count": null,
   "metadata": {},
   "outputs": [],
   "source": [
    "df2 = summary_df.copy()\n",
    "df2 = df2[['ori','riding','walking']]\n",
    "df2 = df2.groupby('ori').mean()\n",
    "df2['ride+walk'] = df2['walking'] + df2['riding']\n",
    "df2.reset_index(inplace=True)\n",
    "df2 = df2.merge(origin, how='left', on='ori')"
   ]
  },
  {
   "cell_type": "code",
   "execution_count": null,
   "metadata": {},
   "outputs": [],
   "source": [
    "# Convert to GeoDataFrame\n",
    "gdf = gpd.GeoDataFrame(df2, geometry=gpd.points_from_xy(df2.ori_lon, df2.ori_lat), crs=\"EPSG:4326\")\n",
    "\n",
    "# Plotting\n",
    "fig, axes = plt.subplots(nrows=1, ncols=3, figsize=(20, 6))\n",
    "\n",
    "metrics = ['riding', 'walking', 'ride+walk']\n",
    "titles = ['Riding', 'Walking', 'Ride + Walk']\n",
    "\n",
    "for ax, metric, title in zip(axes, metrics, titles):\n",
    "    gdf = gdf.to_crs(epsg=3857)\n",
    "    gdf.plot(ax=ax, markersize=gdf[metric]*10, column=metric, legend=True, cmap='viridis_r')\n",
    "    ctx.add_basemap(ax, source=ctx.providers.Stamen.TonerLite)\n",
    "    ax.set_title(title)\n",
    "    ax.axis('off')\n",
    "\n",
    "plt.tight_layout()\n",
    "plt.show()"
   ]
  },
  {
   "cell_type": "markdown",
   "metadata": {},
   "source": [
    "What did you find about locations and travel time?"
   ]
  },
  {
   "attachments": {
    "ae659bb1-22ed-4d75-8fe7-b031c3e32e3e.PNG": {
     "image/png": "[encoded data removed]"
    }
   },
   "cell_type": "markdown",
   "metadata": {},
   "source": [
    "![division3.PNG](attachment:ae659bb1-22ed-4d75-8fe7-b031c3e32e3e.PNG)\n",
    "\n",
    "## 5. **Adjusting Walking Time for Wheelchair Users**\n",
    "Wheelchair users might have different walking times compared to average users. Besides, statistics show that wheelchair users use an average of 2.75 minutes to board or alight a bus. In this section, we will account for these factors, dive into this difference and visualize the results."
   ]
  },
  {
   "cell_type": "code",
   "execution_count": null,
   "metadata": {},
   "outputs": [],
   "source": [
    "df3 = summary_df.copy()\n",
    "df3['walking'] = df3['walking']*2.5/1.0\n",
    "df3['boarding/alighting'] = df3['boarding/alighting']*2.75"
   ]
  },
  {
   "cell_type": "code",
   "execution_count": null,
   "metadata": {},
   "outputs": [],
   "source": [
    "# Group by the ori column and compute the mean for each mode\n",
    "grouped = df3.groupby('ori').mean()\n",
    "\n",
    "# Reset the index for visualization\n",
    "grouped = grouped.reset_index()\n",
    "\n",
    "# Melt the dataframe for visualization\n",
    "melted = pd.melt(grouped, id_vars=['ori'], value_vars=grouped.columns[1:], \n",
    "                 var_name='mode', value_name='average_time')\n",
    "\n",
    "# Visualize using a bar chart\n",
    "plt.figure(figsize=(15, 7))\n",
    "sns.barplot(data=melted, x='ori', y='average_time', hue='mode')\n",
    "plt.title('Average Time Spent by Each Traveler in Each Mode')\n",
    "plt.ylabel('Average Time (minutes)')\n",
    "plt.xlabel('Traveler')\n",
    "plt.legend(title='Mode')\n",
    "plt.show()"
   ]
  },
  {
   "attachments": {
    "36b7a753-201e-4854-a7ba-48c68db121ac.PNG": {
     "image/png": "[encoded data removed]"
    }
   },
   "cell_type": "markdown",
   "metadata": {},
   "source": [
    "![division3.PNG](attachment:36b7a753-201e-4854-a7ba-48c68db121ac.PNG)\n",
    "\n",
    "## 6. **Comparative Visualization for Average and Wheelchair Users**\n",
    "Finally, we will create a comparative visualization to understand the differences in travel times between average and wheelchair users. This will help us identify potential areas of improvement in our transit system for wheelchair users."
   ]
  },
  {
   "cell_type": "code",
   "execution_count": null,
   "metadata": {},
   "outputs": [],
   "source": [
    "# Plotting\n",
    "fig, ax = plt.subplots(figsize=(10, 6))\n",
    "\n",
    "# df1 = df1.groupby('ori').mean().reset_index()\n",
    "# df3 = df3.groupby('ori').mean().reset_index()\n",
    "\n",
    "bar_width = 0.35\n",
    "index = range(len(df1))\n",
    "\n",
    "# Plot data from df1\n",
    "bars1 = ax.bar(index, df1['riding'], bar_width, label='Riding (average user)', color='b', alpha=0.6)\n",
    "bars2 = ax.bar(index, df1['waiting'], bar_width, bottom=df1['riding'], label='Waiting (average user)', color='r', alpha=0.6)\n",
    "bars3 = ax.bar(index, df1['walking'], bar_width, bottom=df1['riding'] + df1['waiting'], label='Walking (average user)', color='g', alpha=0.6)\n",
    "\n",
    "# Plot data from df2 with shifted index for grouped bars\n",
    "bars4 = ax.bar([i + bar_width for i in index], df3['riding'], bar_width, label='Riding (wheelchair user)', color='b', alpha=0.3)\n",
    "bars5 = ax.bar([i + bar_width for i in index], df3['waiting'], bar_width, \n",
    "               bottom=df3['riding'], label='Waiting (wheelchair user)', color='r', alpha=0.3)\n",
    "bars6 = ax.bar([i + bar_width for i in index], df3['walking'], bar_width, \n",
    "               bottom=df3['riding'] + df3['waiting'], label='Walking (wheelchair user)', color='g', alpha=0.3)\n",
    "bars6 = ax.bar([i + bar_width for i in index], df3['boarding/alighting'], \n",
    "               bar_width, \n",
    "               bottom=df3['walking'] + df3['riding'] + df3['waiting'], \n",
    "               label='Boarding/alighting (wheelchair user)', color='y', alpha=0.3)\n",
    "\n",
    "# Labeling and formatting\n",
    "ax.set_xlabel('Traveler')\n",
    "ax.set_ylabel('Time')\n",
    "ax.set_title('Comparison of Modes from Two DataFrames')\n",
    "ax.set_xticks([i + bar_width/2 for i in index])\n",
    "ax.set_xticklabels(df1['ori'])\n",
    "ax.legend()\n",
    "\n",
    "plt.tight_layout()\n",
    "plt.show()\n"
   ]
  },
  {
   "cell_type": "markdown",
   "metadata": {},
   "source": [
    "The chart above shows the time spent in each heat exposure category, broken down by mode of transit.\n",
    "\n"
   ]
  },
  {
   "attachments": {
    "f55de955-51d5-40bb-b40b-a67b32bf82c8.PNG": {
     "image/png": "[encoded data removed]"
    }
   },
   "cell_type": "markdown",
   "metadata": {},
   "source": [
    "![division3.PNG](attachment:f55de955-51d5-40bb-b40b-a67b32bf82c8.PNG)\n",
    "\n",
    "## 7. **Final Thoughts**\n",
    "\n",
    "If you will present your findings to ARC, what would you suggest?\n",
    "* What're the biggest challenges with transit riding? How would you suggest to mitigate them?\n",
    "* Do wheelchair users face the same challenges as average users? How would you suggest to enhance their travel condition?\n",
    "* What would you suggest on infrastructure planning in general?\n",
    "\n",
    "After the analysis, let's tie it back to TransitSim 4.0. Back to the questions raised at the beginning of the lecture. Do you have different answers to the questions? \n",
    "* How is transit modeling different from other types of networks? What will happen if this analysis is to be done with a spatial graph?\n",
    "* Is travel time enough for us to know all we need about a transit trip?\n",
    "* What's the advantage of having second-by-second trajectory?"
   ]
  }
 ],
 "metadata": {
  "colab": {
   "collapsed_sections": [
    "i3zDPacI2St4"
   ],
   "machine_shape": "hm",
   "provenance": []
  },
  "gpuClass": "standard",
  "kernelspec": {
   "display_name": "Python 3 (ipykernel)",
   "language": "python",
   "name": "python3"
  },
  "language_info": {
   "codemirror_mode": {
    "name": "ipython",
    "version": 3
   },
   "file_extension": ".py",
   "mimetype": "text/x-python",
   "name": "python",
   "nbconvert_exporter": "python",
   "pygments_lexer": "ipython3",
   "version": "3.9.17"
  }
 },
 "nbformat": 4,
 "nbformat_minor": 4
}
