{
 "cells": [
  {
   "cell_type": "markdown",
   "metadata": {},
   "source": [
    "# Workshop: **TransitSim 4.0 Demonstration**\n",
    "\n",
    "Welcome to our workshop on TransitSim 4.0 with RAPTOR! Today, we'll delve into the functionalities and applications of TransitSim 4.0 with RAPTOR, guiding you on how to harness its capabilities for transit modeling.\n",
    "\n",
    "## Copyright and License Information\n",
    "\n",
    "© September 2023 Huiying (\"Fizzy\") Fan, Hanyan (\"Ann\") Li, Diyi Liu, Angshuman Guin, Randall Guensler, Georgia Institute of Technology. All rights reserved.\n",
    "\n",
    "This material is for personal use and is protected by law. Reproduction or distribution without explicit permission is prohibited.\n",
    "\n",
    "## Acknowledgements\n",
    "\n",
    "The development of TransitSim 4.0 was funded by the National Center for Sustainable Transportation, under the Federal Highway Administration. The authors would like to extend their gratitude to the following researchers and teams, whose work significantly influenced parts of this program:\n",
    "\n",
    "##### 1. **Delling, D., Pajor, T., & Werneck, R. F.**\n",
    "- **Work**: *Round-based Public Transit Routing*. Transportation Science, 49(3), 591-604, 2015.\n",
    "- **Contribution**: This seminal paper introduced innovative round-based techniques for public transit routing, offering insights and methodologies that have been instrumental in shaping the algorithms and approaches used in this project.\n",
    "\n",
    "##### 2. **Agarwal, P. & Rambha, T.**\n",
    "- **Work**: [Transit Routing on GitHub](https://github.com/transnetlab/transit-routing)\n",
    "- **Contribution**: Their combined expertise in transportation routing and the pre-processing of GTFS files for the RAPTOR algorithm has been invaluable to this project.\n",
    "\n",
    "##### 3. **Fan, H., Guin, A., & Guensler, R.**\n",
    "- **Work**: *Using Multi-Modal Path-Specific Transit Trips in Transportation Social Sustainability Analysis: Case Study in Atlanta, GA*\n",
    "- **Contribution**: Their research report on TransitSim 3.0 algorithms served as another significant building block for trajectory processing and analysis.\n",
    "\n",
    "##### 4. **Li, H., Liu, D., Guin, A., & Guensler, R.**\n",
    "- **Work**: *TransitSim 1.0-2.0*\n",
    "- **Contribution**: Their work on the TransitSim software laid the foundation with algorithms and methodologies that were pivotal for the development and optimization of this project.\n",
    "\n",
    "##### 5. **Passmore, R., Watkins, K. E., & Guensler, R.**\n",
    "- **Work**: *BikewaySim and Complete Paths Networks are Expected to Improve Modeling of Bicycle Activity and Route Choice*\n",
    "- **Contribution**: Their research has guided the current project in the selection of algorithms and various processing functionalities.\n",
    "\n",
    "##### 6. **Fan, H., Lu, H., Dai, Z., Passmore, R., Guin, A., Watkins, K., & Guensler, R.**\n",
    "- **Work**: *Combined Effect of Changes in Transit Service and Changes in Occupancy on Per-Passenger Energy Consumption*\n",
    "- **Contribution**: This study has enhanced the methodology, especially in relation to TransitSim 1.0 and 2.0.\n",
    "\n",
    "##### 7. **Passmore, R., Fan, H., & Guensler, R.**\n",
    "- **Work**: *Shortest Path Routing Lab. CEE/CP6702 Urban Transportation Lab [lecture]. Georgia Institute of Technology*\n",
    "- **Contribution**: This lecture provided the sample trips dataset that was utilized in the current project.\n",
    "\n",
    "\n",
    "## Table of Contents\n",
    "\n",
    "1. **Setup, Installation, and Required Packages**\n",
    "2. **Understanding the Basics and Folder Structure**\n",
    "3. **GTFS Pre-processing and Analysis Module**\n",
    "4. **RAPTOR Transit Routing Module**\n",
    "5. **Post-Analysis Module**"
   ]
  },
  {
   "attachments": {
    "1612ca58-67eb-48c8-a99c-19521a3cd6c4.PNG": {
     "image/png": "[encoded data removed]"
    }
   },
   "cell_type": "markdown",
   "metadata": {},
   "source": [
    "![division2.PNG](attachment:1612ca58-67eb-48c8-a99c-19521a3cd6c4.PNG)\n",
    "\n",
    "## 1. **Setup, Installation, and Required Packages**\n",
    "\n",
    "Before diving into the functionalities of TransitSim 4.0, it's essential to set up our environment correctly. This involves installing necessary packages and importing the required libraries. The following sections guide you through this process."
   ]
  },
  {
   "cell_type": "markdown",
   "metadata": {},
   "source": [
    "### Required Packages"
   ]
  },
  {
   "cell_type": "markdown",
   "metadata": {},
   "source": [
    "#### Data Analysis and Manipulation\n",
    "\n",
    "- **Numpy and Pandas**: Fundamental libraries for numerical operations and data manipulation in Python. They provide essential data structures and methods to perform efficient operations on data.\n",
    "  \n",
    "- **NetworkX**: Enables the creation, manipulation, and study of complex networks of nodes and edges.\n",
    "\n",
    "#### Parallel Processing and Performance\n",
    "\n",
    "- **Multiprocessing, psutil, and related imports**: These libraries help in parallelizing tasks, making the most of multi-core CPUs, and managing system processes.\n",
    "\n",
    "- **tqdm**: Provides a progress bar, which is useful for tasks that take a significant amount of time, giving a visual indication of progress.\n",
    "\n",
    "#### Geospatial Analysis\n",
    "\n",
    "- **GeoPandas, Shapely, geopy, and rasterio**: Essential for geospatial data manipulation, analysis, and operations. They allow for operations on geometric shapes, geospatial computations, and raster data handling.\n",
    "\n",
    "#### Visualization\n",
    "\n",
    "- **Matplotlib, Seaborn, contextily, cmocean, and related imports**: Comprehensive libraries for creating static, animated, and interactive visualizations in Python. They offer a wide range of plotting tools and customization options.\n",
    "\n",
    "- **SciPy and Astropy**: Used for more advanced image and signal processing tasks, such as convolution and filtering.\n"
   ]
  },
  {
   "cell_type": "markdown",
   "metadata": {},
   "source": [
    "### Installing Required Packages"
   ]
  },
  {
   "cell_type": "markdown",
   "metadata": {},
   "source": [
    "To ensure smooth execution of the subsequent code, we need to install a specific package. While it's highly recommended to do so in a new environment on conda, the following command provides a workaround for quick installation of any missing documents:\n",
    "\n",
    "```python\n",
    "%pip install [package name]\n",
    "```"
   ]
  },
  {
   "cell_type": "markdown",
   "metadata": {},
   "source": [
    "### Importing the packages"
   ]
  },
  {
   "cell_type": "code",
   "execution_count": null,
   "metadata": {
    "id": "FlUQUkEo2Stv"
   },
   "outputs": [],
   "source": [
    "import os \n",
    "import time\n",
    "import numpy as np\n",
    "import pandas as pd\n",
    "import networkx as nx\n",
    "\n",
    "import multiprocessing\n",
    "from multiprocessing import Pool\n",
    "from functools import partial\n",
    "import psutil\n",
    "from tqdm import tqdm\n",
    "import itertools\n",
    "from itertools import chain\n",
    "from math import ceil\n",
    "\n",
    "from random import shuffle\n",
    "from time import time as time_measure\n",
    "from time import time\n",
    "import pickle\n",
    "\n",
    "import geopandas as gpd\n",
    "from shapely.geometry import LineString\n",
    "import geopy\n",
    "from geopy.distance import geodesic\n",
    "# import rasterio\n",
    "\n",
    "# visualization\n",
    "import matplotlib.pyplot as plt\n",
    "from matplotlib import gridspec\n",
    "from matplotlib.patches import Arrow\n",
    "from matplotlib.patches import FancyArrow\n",
    "from matplotlib.colors import LinearSegmentedColormap\n",
    "from matplotlib.cm import ScalarMappable\n",
    "import matplotlib.colors as colors\n",
    "import matplotlib.image as mpimg\n",
    "import matplotlib.font_manager as fm\n",
    "from mpl_toolkits.axes_grid1 import make_axes_locatable\n",
    "from mpl_toolkits.axes_grid1.anchored_artists import AnchoredSizeBar\n",
    "from mpl_toolkits.axes_grid1.inset_locator import inset_axes\n",
    "from matplotlib_scalebar.scalebar import ScaleBar\n",
    "from geodatasets import get_path\n",
    "import contextily as ctx\n",
    "import cmocean\n",
    "import seaborn as sns\n",
    "\n",
    "from scipy.ndimage.filters import gaussian_filter\n",
    "from astropy.convolution import convolve, Gaussian2DKernel"
   ]
  },
  {
   "attachments": {
    "63f6685d-523e-4002-9bcd-b27eb19883c5.PNG": {
     "image/png": "[encoded data removed]"
    }
   },
   "cell_type": "markdown",
   "metadata": {},
   "source": [
    "![division1.PNG](attachment:63f6685d-523e-4002-9bcd-b27eb19883c5.PNG)\n",
    "\n",
    "## 2. **Understanding the Basics and Folder Structure**\n",
    "Our TransitSim project is organized to ensure clarity and ease of access. Below is a detailed breakdown of the main directories and their contents:\n"
   ]
  },
  {
   "attachments": {
    "bbace398-2787-4ee9-83e8-a2eef7588cad.PNG": {
     "image/png": "[encoded data removed]"
    }
   },
   "cell_type": "markdown",
   "metadata": {},
   "source": [
    "![overview.PNG](attachment:bbace398-2787-4ee9-83e8-a2eef7588cad.PNG)"
   ]
  },
  {
   "cell_type": "markdown",
   "metadata": {},
   "source": [
    "### Folder Structure"
   ]
  },
  {
   "cell_type": "markdown",
   "metadata": {},
   "source": [
    "#### `TransitSim4/`\n",
    "The root directory for our project.\n",
    "\n",
    "- **`data/`**: This directory is designated for storing raw input data and crucial outputs intended for future analyses.\n",
    "  - **`gtfs/`**: Contains input GTFS data. GTFS (General Transit Feed Specification) is a standard proposed by Google for transit agencies to share their network configurations. It provides a consistent format for developers and researchers to work with transit data. This open-source data can be downloaded from [TransitFeeds.com](http://transitfeeds.com/).\n",
    "  - **`gtfs/`**: The location where you want to put your O-D trips samples (can be multiple CSV files).\n",
    "  - **`transfer_network/`**: Houses the transfer network data, such as bike, sidewalk, auto, etc. The current version utilizes data from OpenStreetMap (OSM).\n",
    "  - **`output/`**: Direct outputs from the RAPTOR algorithm are stored here. This includes:\n",
    "    - A summary file detailing travel time and distance at the trip level.\n",
    "    - A paths file containing detailed trip trajectory information on a link-by-link basis.\n",
    "    - A log file reporting any issues encountered.\n",
    "  - **`postproc/`**: Contains detailed trajectories derived from the output file, with a separate file for each trip.\n",
    "    - **`trajectories/`**: Detailed trip-level trajectories.\n",
    "    - **`traj_integrated/`**: Trajectories with ingress and egress integrated.\n",
    "    - **`traj_sec_by_sec/`**: Second by second trajectories.\n",
    "    - **`linkshp/`**: Houses the shapefile for detailed transit network information.\n",
    "    - **`linkpts/`**: Houses the shapefile for transit and transfer network sampled to points.\n",
    "\n",
    "- **`scratch/`**: A directory for temporary files. These files can be safely deleted once the project concludes.\n",
    "  - **`gtfs_output/`**: Houses the pre-processed GTFS files.\n",
    "  - **`transfer_output/`**: Contains processed transfer information.\n",
    "  - **`dicts/`**: Stores processed input dictionaries.\n",
    "  - **`sample_processed/`**: Stores interim files for processing trips sample files.\n",
    "  - **`f_l_path/`**: Stores ingress and egress paths.\n",
    "\n",
    "- **`program/`**: This is where all the program scripts reside.\n",
    "  - **`gtfs_wrapper.py`**: GTFS pre-processing scripts sourced from Prateek's group.\n",
    "  - **`gtfs_filter.py`**: Our added GTFS filtering scheme.\n",
    "  - **`build_transfer_file.py`**: Transfer processing script from Prateek's group.\n",
    "  - **`dict_builder_functions.py`**: Dictionary building functions from Prateek's group.\n",
    "  - **`raptor_preproc.py`**: Compiled RAPTOR pre-processing module.\n",
    "  - **`raptor_functions.py`**: Ancillary functions for RAPTOR.\n",
    "  - **`std_raptor.py`**: RAPTOR function.\n",
    "  - **`raptor_run.py`**: Compiled RAPTOR running module.\n",
    "  - **`transit_links.py`**: Post-processing to obtain detailed trajectory of transit links.\n",
    "  - **`f_l_mile.py`**: Post-processing to obtain first and last mile (ingress and egress) travel information.\n",
    "  - **`postproc_traj.py`**: Compiled RAPTOR post-processing module.\n",
    "  - **`extensions.py`**: Compiled extension module.\n"
   ]
  },
  {
   "attachments": {
    "f0e0df10-f6fe-40f0-8fc4-1e03aeb6de18.PNG": {
     "image/png": "[encoded data removed]"
    }
   },
   "cell_type": "markdown",
   "metadata": {
    "id": "aC7MoEyrx3Mv"
   },
   "source": [
    "![division1.PNG](attachment:f0e0df10-f6fe-40f0-8fc4-1e03aeb6de18.PNG)\n",
    "\n",
    "## 3. **GTFS Pre-processing and Analysis Module**\n",
    "This module provides a comprehensive set of functions to preprocess and analyze General Transit Feed Specification (GTFS) data. The module is designed to facilitate transit modeling and analysis, especially in the context of walkability, transfer optimization, and network analysis."
   ]
  },
  {
   "cell_type": "markdown",
   "metadata": {},
   "source": [
    "### Key Features"
   ]
  },
  {
   "cell_type": "markdown",
   "metadata": {},
   "source": [
    "1. **GTFS Data Import and Basic Filtering**: \n",
    "    - Import essential GTFS files such as stops, trips, and stop times.\n",
    "    - Spatially filter GTFS data based on sample locations.\n",
    "    - Filter trips based on specific days and routes.\n",
    "\n",
    "2. **Network Preparation**:\n",
    "    - Generate a walkable network from OpenStreetMap (OSM) based on the spatial extent of GTFS stops.\n",
    "    - Identify nearby stops within a walkable threshold.\n",
    "    - Filter out stops that belong to the same route to avoid redundant transfers.\n",
    "\n",
    "3. **Transfer Analysis**:\n",
    "    - Identify potential transfer opportunities between stops.\n",
    "    - Compute the shortest path between stops using the prepared network.\n",
    "    - Apply transitive closure to the graph to optimize transfer paths.\n",
    "\n",
    "4. **Dictionary Construction for Fast Lookup**:\n",
    "    - Construct and save dictionaries for routes by stops, stops, stop times, and footpaths for efficient data retrieval during analysis."
   ]
  },
  {
   "cell_type": "code",
   "execution_count": null,
   "metadata": {
    "id": "rdRVy_Sm5PSi"
   },
   "outputs": [],
   "source": [
    "from program import raptor_preproc"
   ]
  },
  {
   "cell_type": "markdown",
   "metadata": {},
   "source": [
    "### Key Libraries and Dependencies"
   ]
  },
  {
   "cell_type": "markdown",
   "metadata": {},
   "source": [
    "This module requires the following packages:\n",
    "- **Pandas & Numpy**: For data manipulation and mathematical operations.\n",
    "- **GeoPandas & Geopy**: For spatial operations and geospatial data handling.\n",
    "- **NetworkX**: For network analysis and graph operations.\n",
    "- **OSMnx**: For obtaining and processing OpenStreetMap data.\n",
    "- **TQDM**: For progress bars during data processing.\n",
    "\n",
    "This module is built upon the following two functions from [This GitHub Site](https://github.com/transnetlab/transit-routing)\n",
    "- **GTFS Wrapper**: Pre-processing of GTFS files.\n",
    "- **dict_builder_functions**: Building dictionary files for fast processing."
   ]
  },
  {
   "cell_type": "markdown",
   "metadata": {},
   "source": [
    "### Data Preparation"
   ]
  },
  {
   "cell_type": "markdown",
   "metadata": {},
   "source": [
    "To utilize this module, ensure you have the necessary GTFS data and a trips dataset for spatial filtering (if required). Follow the sequence of function calls as outlined in the code to preprocess the GTFS data, prepare the network, identify transfer opportunities, and construct the necessary dictionaries for further analysis.\n",
    "n:\n",
    "1. **GTFS Files**: Ensure you have the desired version of GTFS files. At a minimum, the dataset should contain stops, stop times, trips, routes, shapes, calendar, and calendar dates.\n",
    "2. **OD Trips Data**: This dataset comprises one or more CSV files with OD trips information. At the very least, the CSV should include the following columns: trip_id, ori_lat, ori_lon, dest_lat, dest_lon, and board_time.\n",
    "3. **Transfer Network Data** (Optional): If provided, this dataset should contain a shapefile for nodes and another for edges, representing the transfer network. If not available, you can supply a network name (e.g., \"Atlanta, Georgia, USA\") and ensure the `osmnx` package is installed to extract the transfer network from OSM. If your study area doesn't align with the administrative boundaries of a specific region, you have the option to define the boundary based on the spatial information in your GTFS data. More details on this are available in the corresponding script.\n"
   ]
  },
  {
   "cell_type": "code",
   "execution_count": null,
   "metadata": {},
   "outputs": [],
   "source": [
    "# Define paths for input datasets\n",
    "SAMP_PATH = './data/sample'  # Path to the trips data\n",
    "RAW_GTFS_PATH = './data/gtfs'  # Path to the raw GTFS data\n",
    "RAW_NETWORK_PATH = './data/transfer_network'  # Path to the raw transfer network data\n",
    "NETWORK_NAME = 'Atlanta, Georgia, USA'  # Name of the network for OSM extraction (if needed)\n",
    "\n",
    "# Define paths for output datasets\n",
    "PROC_GTFS_PATH = './scratch/gtfs_output'  # Path to save processed GTFS data\n",
    "PROC_NETWORK_PATH = './scratch/transfer_output'  # Path to save processed transfer network data\n",
    "DICTS_PATH = './scratch/dicts'  # Path to save dictionaries for further analysis"
   ]
  },
  {
   "cell_type": "markdown",
   "metadata": {},
   "source": [
    "### Parameter Set Up"
   ]
  },
  {
   "cell_type": "markdown",
   "metadata": {},
   "source": [
    "Before diving into the module's functionalities, it's essential to set up the parameters correctly. These parameters guide the data processing and analysis steps, ensuring that the module operates as intended.\n",
    "\n",
    "#### Date and Day Type\n",
    "* **`day_type`**: This parameter specifies the day of the week for which the GTFS data will be filtered. For instance, setting it to 'sunday' will only consider transit schedules for Sundays. Note that most transit agencies will have the same schedule for weekdays (while sometimes Friday will has its own schedule). There is an option to use all weekdays instead of one single day in the week. Check out the script for details.\n",
    "* **`DATE_TOFILTER_ON`** (optional): This parameter defines a specific date (in 'YYYYMMDD' format) on which the GTFS dataset will be filtered. If not provided, the program will select the first corresponding day_type in the supplied GTFS period.\n",
    "\n",
    "#### Route Types\n",
    "* **`VALID_ROUTE_TYPES`**: GTFS data can contain various types of transit routes. This parameter is a list that specifies which route types should be considered in the analysis. The route types are identified by specific numbers, each corresponding to a mode of transit. Below is the list of route types and their corresponding modes\n",
    " * 0: Tram, Light Rail, Streetcar\n",
    " * 1: Subway, Metro\n",
    " * 2: Rail\n",
    " * 3: Bus\n",
    " * 4: Ferry\n",
    " * 5: Cable Car\n",
    " * 6: Gondola, Suspended cable car\n",
    " * 7: Funicular\n",
    "\n",
    "#### Spatial Filtering\n",
    "* **`filter_spatial`**: A boolean parameter that determines whether the GTFS data should be spatially filtered based on the provided sample/trips dataset.\n",
    "* **`stop_buff`**: This parameter specifies the buffer distance (in miles) around each stop. It's used when filtering the GTFS data spatially.\n",
    "\n",
    "#### Transfer and Network Building\n",
    "* **`BUILD_TRANSFER`**: A flag to indicate whether the transfer file should be built. Set to 1 to build, and 0 otherwise.\n",
    "* **`WALKING_LIMIT`**: This parameter defines the maximum allowable walking distance (in miles) for transfers. For instance, a value of 0.21 miles is approximately equivalent to a 5-minute walk at a speed of 2.5 mph.\n",
    "* **`NETWORK_PREP`**: A boolean parameter that indicates whether the network should be prepared. If set to True, the module will prepare the network based on the stops' locations. If False, a network name must be provided, or the function needs to be instructed to build extract the network using GTFS's spatial information. Package `osmnx` is required in either case."
   ]
  },
  {
   "cell_type": "code",
   "execution_count": null,
   "metadata": {},
   "outputs": [],
   "source": [
    "day_type = 'monday'\n",
    "DATE_TOFILTER_ON = '20230922'\n",
    "VALID_ROUTE_TYPES = [3]\n",
    "filter_spatial = True\n",
    "stop_buff = 0.5\n",
    "BUILD_TRANSFER = 1\n",
    "BUILD_TBTR_FILES = 1\n",
    "WALKING_LIMIT = 0.21 \n",
    "NETWORK_PREP = True"
   ]
  },
  {
   "cell_type": "markdown",
   "metadata": {},
   "source": [
    "### The Analysis"
   ]
  },
  {
   "cell_type": "markdown",
   "metadata": {},
   "source": [
    "#### GTFS Data Preprocessing\n",
    "The first step in the analysis is to preprocess the raw GTFS data. This involves filtering the data based on the specified parameters, such as the day type, date, and valid route types. Additionally, if spatial filtering is enabled, the data will be filtered based on the proximity of stops to the sample dataset. The preprocessed data is then saved to a specified path for further analysis.\n"
   ]
  },
  {
   "cell_type": "code",
   "execution_count": null,
   "metadata": {},
   "outputs": [],
   "source": [
    "_, route_map_db = raptor_preproc.gtfs_preprocessing(RAW_GTFS_PATH, PROC_GTFS_PATH, SAMP_PATH, \n",
    "                                                    VALID_ROUTE_TYPES, day_type, DATE_TOFILTER_ON, filter_spatial, stop_buff)"
   ]
  },
  {
   "cell_type": "markdown",
   "metadata": {},
   "source": [
    "#### Transfer Opportunities Identification\n",
    "Once the GTFS data is preprocessed, the next step is to identify potential transfer opportunities between transit routes. This is achieved by calculating the walking distances between stops and comparing them to a specified walking limit. If the network preparation flag is set to `True`, the module will prepare the network based on the stops' locations. The identified transfer opportunities are then saved to a CSV file for further use."
   ]
  },
  {
   "cell_type": "code",
   "execution_count": null,
   "metadata": {},
   "outputs": [],
   "source": [
    "import os\n",
    "breaker = '----------------------------------'\n",
    "transfer_output = raptor_preproc.get_transfer(PROC_GTFS_PATH, WALKING_LIMIT, \n",
    "                                              NETWORK_PREP, RAW_NETWORK_PATH,\n",
    "                                              breaker = breaker, node_stop_thres = 0.5)\n",
    "transfer_output.to_csv(os.path.join(PROC_NETWORK_PATH, 'transfer.csv'))"
   ]
  },
  {
   "cell_type": "markdown",
   "metadata": {},
   "source": [
    "#### Dictionary Construction\n",
    "The final step involves constructing dictionaries based on the preprocessed GTFS data and the identified transfer opportunities. These dictionaries are essential for the RAPTOR algorithm, as they provide a structured way to access the data during the routing process. The dictionaries are saved to a specified path for easy retrieval during the analysis."
   ]
  },
  {
   "cell_type": "code",
   "execution_count": null,
   "metadata": {
    "id": "PDTS4lYlnLzM"
   },
   "outputs": [],
   "source": [
    "raptor_preproc.build_dict(PROC_GTFS_PATH, PROC_NETWORK_PATH, DICTS_PATH)"
   ]
  },
  {
   "attachments": {
    "e7039563-a9df-4155-b73d-676f89a0651d.PNG": {
     "image/png": "[encoded data removed]"
    }
   },
   "cell_type": "markdown",
   "metadata": {
    "id": "l1FAJckawy_M"
   },
   "source": [
    "![division1.PNG](attachment:e7039563-a9df-4155-b73d-676f89a0651d.PNG)\n",
    "\n",
    "## 4. **RAPTOR Transit Routing Module**\n",
    "This module is designed to facilitate transit routing using the RAPTOR algorithm, a fast algorithm for public transit routing. The module encompasses two primary functions: identifying sample stops within a walkable threshold and executing the RAPTOR algorithm for transit routing.\n"
   ]
  },
  {
   "cell_type": "markdown",
   "metadata": {},
   "source": [
    "### Key Features"
   ]
  },
  {
   "cell_type": "markdown",
   "metadata": {},
   "source": [
    "1. **Sample Stops Identification**: The module can identify transit stops that are within a walkable distance from the origin and destination points of a sample dataset.\n",
    "2. **RAPTOR Transit Routing**: Utilizing the RAPTOR algorithm, the module can compute transit routes for a given sample dataset, taking into account various parameters like maximum transfers, walking distance from the source, and change time between routes."
   ]
  },
  {
   "cell_type": "code",
   "execution_count": null,
   "metadata": {},
   "outputs": [],
   "source": [
    "from program import raptor_run"
   ]
  },
  {
   "cell_type": "markdown",
   "metadata": {},
   "source": [
    "### Key Libraries and Dependencies"
   ]
  },
  {
   "cell_type": "markdown",
   "metadata": {},
   "source": [
    "This module is built upon the following packages and the RAPTOR algorithm:\n",
    "- **Basic Python Libraries**: `os`, `glob`, `psutil`, `itertools`, `argparse`, `numpy`, `pandas`, `pickle`, `math`, `random`, and `time`.\n",
    "- **Geospatial Libraries**: `geopandas`, `shapely`, and `geopy` for spatial operations and distance calculations.\n",
    "- **Graph Library**: `networkx` for network-based operations.\n",
    "- **Progress Bar**: `tqdm` for displaying progress during iterative processes."
   ]
  },
  {
   "cell_type": "markdown",
   "metadata": {},
   "source": [
    "### Data Preparation"
   ]
  },
  {
   "cell_type": "markdown",
   "metadata": {},
   "source": [
    "- **OD Trips Data**\n",
    "- **Processed GTFS Data**\n",
    "- **Processed Transfer Data**\n",
    "- **Prepared Dictionary Files**"
   ]
  },
  {
   "cell_type": "code",
   "execution_count": null,
   "metadata": {},
   "outputs": [],
   "source": [
    "# Define paths for input datasets\n",
    "SAMP_PATH = './data/sample'\n",
    "GTFS_PATH = './scratch/gtfs_output'\n",
    "TRANSFER_PATH = './scratch/transfer_output/transfer.csv'\n",
    "DICT_PATH = './scratch/dicts'\n",
    "SAMP_INT_PATH = './scratch/sample_processed'\n",
    "\n",
    "# Define path for output datasets\n",
    "SAVE_PATH = './data/output'"
   ]
  },
  {
   "cell_type": "markdown",
   "metadata": {},
   "source": [
    "### Parameter Set-Up"
   ]
  },
  {
   "cell_type": "markdown",
   "metadata": {},
   "source": [
    "- **Walk Threshold**: Defines the maximum distance (e.g., 0.5 miles) from an origin or destination point to a transit stop that is considered walkable.\n",
    "- **RAPTOR Parameters**: Parameters like `MAX_TRANSFER`, `WALKING_FROM_SOURCE`, `CHANGE_TIME_SEC`, and `PRINT_ITINERARY` influence "
   ]
  },
  {
   "cell_type": "code",
   "execution_count": null,
   "metadata": {},
   "outputs": [],
   "source": [
    "WALK_THRESH = 0.5\n",
    "DATE_TOFILTER_ON = '20230922'\n",
    "# RAPTOR parameters\n",
    "MAX_TRANSFER = 5\n",
    "WALKING_FROM_SOURCE = 1\n",
    "CHANGE_TIME_SEC = 600\n",
    "PRINT_ITINERARY = 1"
   ]
  },
  {
   "cell_type": "markdown",
   "metadata": {},
   "source": [
    "### The Analysis"
   ]
  },
  {
   "cell_type": "markdown",
   "metadata": {},
   "source": [
    "#### 1. `find_samp_stops`:\n",
    "This function identifies transit stops that are within a walkable distance from the origin and destination points of a sample dataset. It uses geospatial operations to buffer around stops and then identifies stops within this buffer for each sample point."
   ]
  },
  {
   "cell_type": "code",
   "execution_count": null,
   "metadata": {
    "id": "c781a7Wsw6ai"
   },
   "outputs": [],
   "source": [
    "raptor_run.find_samp_stops(SAMP_PATH, GTFS_PATH, SAMP_INT_PATH, WALK_THRESH)"
   ]
  },
  {
   "cell_type": "markdown",
   "metadata": {},
   "source": [
    "#### 2. `run_raptor`:\n",
    "This function executes the RAPTOR algorithm for transit routing. It imports necessary data files, sets up the system, runs the RAPTOR algorithm iteratively for each sample, and then exports the results. The function returns detailed paths, a summary of routes, and a log of the routing process."
   ]
  },
  {
   "cell_type": "code",
   "execution_count": null,
   "metadata": {
    "id": "sQXtJM8PxLOG"
   },
   "outputs": [],
   "source": [
    "raptor_run.run_raptor(GTFS_PATH, DICT_PATH, TRANSFER_PATH, SAVE_PATH, SAMP_INT_PATH,\n",
    "                      DATE_TOFILTER_ON, MAX_TRANSFER, WALKING_FROM_SOURCE, CHANGE_TIME_SEC, PRINT_ITINERARY)"
   ]
  },
  {
   "attachments": {
    "3d57dd72-a607-4ce9-a282-d49ca5c26e30.PNG": {
     "image/png": "[encoded data removed]"
    }
   },
   "cell_type": "markdown",
   "metadata": {},
   "source": [
    "![division1.PNG](attachment:3d57dd72-a607-4ce9-a282-d49ca5c26e30.PNG)\n",
    "\n",
    "## 5. **Post-Analysis Module**\n",
    "The Post-Processing Transit Routing Module is a sophisticated tool designed to refine and detail the transit routes obtained from the RAPTOR algorithm. Its primary goal is to provide a granular breakdown of the routes, ensuring that the transit routing results are both rigorous and detailed, making them suitable for further analysis and visualization.\n"
   ]
  },
  {
   "cell_type": "markdown",
   "metadata": {},
   "source": [
    "### Key Features"
   ]
  },
  {
   "cell_type": "markdown",
   "metadata": {},
   "source": [
    "#### **Prepare Route-based Shapefile from GPS Trace**\n",
    "The `links_transit` function is used to process transit data to craft transit links in shapefiles. By harnessing both raw GTFS (General Transit Feed Specification) data and its processed counterpart, this function paints a spatial portrait of transit routes. Several sub-modules are used:\n",
    "\n",
    "##### 1. Data Import and Preprocessing\n",
    "- **`import_data`**: Imports GTFS data files.\n",
    "- **`sub_sample`**: Subsamples data for large files.\n",
    "\n",
    "##### 2. Shape Processing\n",
    "- **`spacing`**: Interpolates additional shape points between adjacent pairs.\n",
    "- **`back_space`**: Matches shapes to time stops.\n",
    "- **`filter_mismatched_shapes`**: Filters out misordered shape points.\n",
    "- **`find_distance`**: Computes travel distances between stops and shape points.\n",
    "\n",
    "##### 3. Transit Link Generation\n",
    "- **`space_reg`**: Registers spacing for each trip.\n",
    "- **`get_transit_links`**: Generates transit links.\n",
    "\n",
    "##### 4. Data Filling and Correction\n",
    "- **`fill_links_dist_na`**: Fills missing distances in links.\n",
    "- **`fill_links_geo_na`**: Fills missing geometries in links.\n",
    "\n",
    "\n",
    "#### **Transit Data Trajectory Post-Processing**\n",
    "\n",
    "The `post_proc_traj` function from the `postproc_traj` module is designed to streamline the post-processing of transit data trajectories. It integrates raw transfer data, spatial shapefiles, and GTFS datasets to generate comprehensive transit trajectories. The function allows for customization through parameters like walking thresholds (`walk_thres`) and link versions (`link_version`). The processed trajectories are then saved to the specified `TRAJ_PATH` directory.\n",
    "\n",
    "##### 1. Data ID Management\n",
    "- **`update_stop_id`**: Updates stop IDs to ensure consistency between pre-processed and post-processed GTFS datasets.\n",
    "\n",
    "##### 2. Trajectory Generation\n",
    "- **`separate_paths_by_mode`**: Segregates paths based on the mode of transportation (riding, walking, waiting), and find wait time and transfers.\n",
    "- **`find_trajectory`**: Determines the trajectory for each transit riding and walking segment of a trip using the shortest path algorithm, based on network shapefiles generated in the previous section.\n",
    "\n",
    "##### 3. Spatial Analysis\n",
    "- **`find_samp_stops`**: Identifies stops for each sample within a specified walking threshold.\n",
    "- **`revert_walk_to_osm`**: Converts walking paths to OpenStreetMap (OSM) format.\n",
    "\n",
    "##### 4. Main Post-Processing\n",
    "- **`post_proc_traj`**: Orchestrates the entire post-processing workflow, integrating walking and riding networks, and saving the results.\n",
    "\n",
    "\n",
    "#### **Transit Ingress-Egress Trajectory Integration**\n",
    "\n",
    "Crafted by Fizzy Huiying Fan on May 30, 2022, this module is dedicated to the precise determination and integration of transit ingress and egress trajectoriesI, it seamlessly combines the first and last mile trajectories with the main transit riding segment, ensuring a comprehensive representation of the entire transit journey.\n",
    "\n",
    "##### 1. Node Filtering\n",
    "- **`filter_nodes_by_stop`**: Filters nodes based on transit stops and a given threshold. This ensures that only nodes relevant to the transit journey's start and end are considered.\n",
    "\n",
    "##### 2. Path Determination\n",
    "- **`shortest_path_finder`**: Employs the Dijkstra algorithm to find the shortest path between two nodes within a set of links, crucial for determining the most efficient ingress and egress paths.\n",
    "- **`find_f_l_paths`**: Specifically computes the paths for the first and last mile of a transit journey, bridging the gap between transit stops and the main transit route.\n",
    "\n",
    "##### 3. Trajectory Processing\n",
    "- **`snap_sample_network`**: Altrips OD igns sample points to a network based on a specified distance threshold, ensuring that transit stops are accurately represented in the trajectory.\n",
    "- **`f_l_trajectories`**: Calculates the trajectory for each segment of a trip, encompassing the ingress, egress, and the main transit riding segment.\n",
    "- **`integrate_all_traj`**: Merges different trajectories, including the ingress and egress paths, to form a complete and unified trajectory for each trip.\n",
    "\n",
    "##### 4. Comprehensive Integration\n",
    "- **`integrate_ingress_egress`**: A holistic function that oversees the entire trajectory integration process. It ensures that the initial and final walking segments are seamlessly combined with the main transit re transit journey.\n"
   ]
  },
  {
   "cell_type": "markdown",
   "metadata": {},
   "source": [
    "### Key Libraries and Dependencies"
   ]
  },
  {
   "cell_type": "markdown",
   "metadata": {},
   "source": [
    "The module leverages several Python libraries:\n",
    "- **Standard Libraries**: `os`, `warnings`, `time`, `itertools`, `argparse`, `glob`\n",
    "- **Data Handling**: `pandas`, `numpy`\n",
    "- **Geospatial Operations**: `shapely`, `geopandas`, `geopy`\n",
    "- **Visualization & Progress Tracking**: `tqdm`\n",
    "- **Network Analysis**: `networkx`\n",
    "- **Custom Modules**: `program.transit_l, `program.f_l_mile`inks`\n",
    "\n",
    "A significant portion of the functionalities, especially the transit_links_shp function and its dependencies, are derived from TransitSim 3.0. This program, developed by the same asuthor in an earlier project, provides foundational tools for transit simulation and analysis.` The post_proc`_traj function, on the other hand, introduces new functionalities developed specifically for this mo The `integrate_ingress_egress` function introduces the methods to derive trajectories during transit ingress and egress, and integrate them to complete the trip trajectory.dule."
   ]
  },
  {
   "cell_type": "code",
   "execution_count": null,
   "metadata": {},
   "outputs": [],
   "source": [
    "from program import postproc_traj"
   ]
  },
  {
   "cell_type": "markdown",
   "metadata": {},
   "source": [
    "### Data Preparation"
   ]
  },
  {
   "cell_type": "markdown",
   "metadata": {},
   "source": [
    "The module mainly uses data outputs from the previous modules. It uses several directories to manage its data:\n",
    "- **RAW_GTFS_PATH**: './data/gtfs' - Directory containing raw GTFS data.\n",
    "- **PROC_GTFS_PATH**: './scratch/gtfs_output' - Directory for processed GTFS data.\n",
    "- **SHP_PATH**: './data/postproc/linkshp' - Directory for shapefiles.\n",
    "- **RAW_TRANSFER_PATH**: './data/transfer_network' - Directory for raw transfer data.\n",
    "- **OUTPUT_PATH**: './data/output' - Directory for output data.\n",
    "- **TRAJ_PATH**: './data/postproc/trajectories' - Directory for trajectory data.\n",
    "- **SAMP_INT_PATH**: './scratch/sample_processed' - Stores all teh intermittent processed sample trips file\n",
    "- **NEW_TRAJ_PATH**: './data/postproc/traj_integrated' - Final trip trajectories with ingress and egress integrated"
   ]
  },
  {
   "cell_type": "code",
   "execution_count": null,
   "metadata": {},
   "outputs": [],
   "source": [
    "PROC_GTFS_PATH = './scratch/gtfs_output'\n",
    "RAW_GTFS_PATH = './data/gtfs'\n",
    "SHP_PATH = './data/postproc/linkshp'\n",
    "RAW_TRANSFER_PATH = './data/transfer_network'\n",
    "OUTPUT_PATH = './data/output'\n",
    "TRAJ_PATH = './data/postproc/trajectories'\n",
    "SAMP_INT_PATH = './scratch/sample_processed'\n",
    "NEW_TRAJ_PATH = './data/postproc/traj_integrated'\n",
    "F_L_PATH = './scratch/f_l_path'"
   ]
  },
  {
   "cell_type": "markdown",
   "metadata": {},
   "source": [
    "### Parameters Set Up"
   ]
  },
  {
   "cell_type": "markdown",
   "metadata": {},
   "source": [
    "This module uses a variety of parameters to control \n",
    "\n",
    "##### 1. `buff_dist`\n",
    "- **Description**: Buffer distance used in spatial operations.\n",
    "- **Type**: Numeric (typically representing meters or other distance units).\n",
    "\n",
    "##### 2. `space_count`\n",
    "- **Description**: The count or number of spaces for interpolation in the spacing function.\n",
    "- **Type**: Integer.\n",
    "\n",
    "##### 3. `min_true_screen`\n",
    "- **Description**: Minimum true screening value used to filter mismatched shapes.\n",
    "- **Type**: Integer.\n",
    "\n",
    "##### 4. `max_space_tol`\n",
    "- **Description**: Maximum spacing tolerance used in the back_space function to determine the maximum allowable distance.\n",
    "- **Type**: Numeric (typically representing a ratio or percentage).\n",
    "\n",
    "##### 5. `plot_links`\n",
    "- **Description**: (Note: This parameter isn't explicitly defined in the provided code. Assuming it's used elsewhere in the module) Likely a Boolean indicating whether to plot or visualize the transit links.\n",
    "- **Type**: Boolean (`True` or `False`).\n",
    "\n",
    "##### 6. `spatial_filtered`\n",
    "- **Description**: Boolean indicating if spatial filtering is applied during data import.\n",
    "- **Type**: Boolean (`True` or `False`).\n",
    "\n",
    "##### 7. `activate_subsample`\n",
    "- **Description**: (Note: This parameter isn't explicitly defined in the provided code. Assuming it's used elsewhere in the module) Likely a Boolean indicating whether to activate subsampling of the data.\n",
    "- **Type**: Boolean (`True` or `False`).\n",
    "\n",
    "##### 8. `walk_thres`\n",
    "- **Description**: Threshold for walking distance, typically used to determine the maximum allowable walking distance between transit stops or between a stop and a destination.\n",
    "- **Type**: Numeric (typically representing miles or other distance units).\n",
    "\n",
    "##### 9. `link_version`\n",
    "- **Description**: Specifies the version of the link data to be used, which can be either 'raw' or 'processed'.\n",
    "- **Type**: String (e.g., 'raw' or 'proces\n",
    "\n",
    "##### 10. `snap_dist`\n",
    "- **Description**: Distance threshold used to snap sample points to the nearest node in the network. It helps in aligning transit stops or points to the closest network nodes.\n",
    "- **Type**: Numeric (typically representing miles or other distance units).\n",
    "\n",
    "##### 11. `dict_speed`\n",
    "- **Description**: A dictionary that defines the speed for various modes of transportation. It provides a mapping between transit modes (e.g., 'auto', 'bike', 'walk') and their respective speeds.\n",
    "- **Type**: Dictionary (Key: String representing the mode of transportation, Value: Numeric representing speed in miles per hour or other speed units).\n"
   ]
  },
  {
   "cell_type": "code",
   "execution_count": null,
   "metadata": {},
   "outputs": [],
   "source": [
    "# space-reg \n",
    "buff_dist = 30\n",
    "space_count = 10\n",
    "min_true_screen = 3\n",
    "max_space_tol = 1 \n",
    "# control for links generation\n",
    "plot_links = True\n",
    "spatial_filtered = True\n",
    "activate_subsample = False\n",
    "# parameters for trajectories\n",
    "walk_thres = 0.21\n",
    "link_version = 'processed'\n",
    "# parameters for ingress and egress\n",
    "snap_dist=0.5\n",
    "dict_speed=None"
   ]
  },
  {
   "cell_type": "markdown",
   "metadata": {},
   "source": [
    "### The Analysis"
   ]
  },
  {
   "cell_type": "markdown",
   "metadata": {},
   "source": [
    "#### **Generate Precise GPS Trajectory**\n",
    "* The section can generate a precise GPS trajectory for each route.\n",
    "* Outputs the results as a shapefile, ensuring the trajectory is accurate and suitable for visualization and further spatial analysis.\n",
    "* Utilizes rigorous programming techniques to ensure precision."
   ]
  },
  {
   "cell_type": "code",
   "execution_count": null,
   "metadata": {},
   "outputs": [],
   "source": [
    "links_transit = postproc_traj.transit_links_shp(RAW_GTFS_PATH, PROC_GTFS_PATH, SHP_PATH,\n",
    "                                                route_map_db, \n",
    "                                                buff_dist, space_count, min_true_screen, max_space_tol,\n",
    "                                                plot_links, spatial_filtered, activate_subsample)"
   ]
  },
  {
   "cell_type": "code",
   "execution_count": null,
   "metadata": {},
   "outputs": [],
   "source": [
    "import geopandas as gpd\n",
    "(gpd.GeoDataFrame(links_transit, \n",
    "                  geometry=links_transit['geometry'])\n",
    " .set_crs('EPSG:2163')\n",
    " .to_crs('EPSG:4269')\n",
    " .plot())"
   ]
  },
  {
   "cell_type": "markdown",
   "metadata": {},
   "source": [
    "#### **Detailed Trajectory Post-Processing**\n",
    "Takes the RAPTOR data and performs several tasks:\n",
    "* **Mode Separation**: Differentiates the trajectory based on modes such as walking and riding.\n",
    "* **Wait Time Calculation**: Determines the waiting duration for each segment of the trip.\n",
    "* **Transfer Analysis**: Identifies and calculates transfer times between different modes or routes.\n",
    "* **Detailed Mode Retrieval**: Retrieves the specific trajectory for each mode, especially walking and transit, ensuring each segment is accurately represented.\n",
    "* **Segmented Output**: Outputs the trajectory segment by segment for each trip, allowing for granular analysis."
   ]
  },
  {
   "cell_type": "code",
   "execution_count": null,
   "metadata": {},
   "outputs": [],
   "source": [
    "postproc_traj.post_proc_traj(RAW_TRANSFER_PATH, SHP_PATH, OUTPUT_PATH, RAW_GTFS_PATH, PROC_GTFS_PATH, TRAJ_PATH, walk_thres, link_version)"
   ]
  },
  {
   "cell_type": "markdown",
   "metadata": {},
   "source": [
    "#### **Transit Ingress-Egress Trajectory Integration**\n",
    "\n",
    "The core objectives of this module encompass:\n",
    "\n",
    "* **Node Filtering**: The ability to discern and filter nodes based on specific transit stops and a designated threshold, ensuring relevance in the transit journey's context.\n",
    "* **Shortest Path Determination**: Within a provided set of links, the module can pinpoint the most efficient path between two nodes, utilizing the Dijkstra algorithm.\n",
    "* **Sample Network Snapping**: By employing the `snap_sample_network` function, sample points are aligned to a network according to a specified distance threshold, ensuring accurate representation of transit stops.\n",
    "* **First and Last Mile Path Identification**: The module is adept at computing paths for the initial and concluding segments of a transit journey, bridging the gap between transit stops and the main transit route.\n",
    "* **Trajectory Calculation**: For each segment of a trip, be it ingress, egress, or the main transit riding segment, the module can meticulously calculate the trajectory.\n",
    "* **Unified Trajectory Integration**: A standout feature is the module's capability to amalgamate diverse trajectories, integrating the ingress and egress paths to form a comprehensive trajectory for each trip."
   ]
  },
  {
   "cell_type": "code",
   "execution_count": null,
   "metadata": {},
   "outputs": [],
   "source": [
    "postproc_traj.integrate_ingress_egress(RAW_TRANSFER_PATH, PROC_GTFS_PATH, SAMP_INT_PATH, TRAJ_PATH, \n",
    "                                       NEW_TRAJ_PATH, F_L_PATH, \n",
    "                                       snap_dist, dict_speed)"
   ]
  },
  {
   "attachments": {
    "557d506b-02d4-4764-97a6-4cded37c1fed.PNG": {
     "image/png": "[encoded data removed]"
    }
   },
   "cell_type": "markdown",
   "metadata": {},
   "source": [
    "![division1.PNG](attachment:557d506b-02d4-4764-97a6-4cded37c1fed.PNG)\n",
    "\n",
    "## 6. **Extensions**\n",
    "The extension modules are fully optional, but can provide functionalities that might be helpful for certain users. "
   ]
  },
  {
   "cell_type": "markdown",
   "metadata": {},
   "source": [
    "There are a number of extension moudules in TransitSim 4.0, including:\n",
    "* **Generating second by second trip trajectory**: produce second by second trip trajectory for each trip, good for emission analysis, exposure analysis, etc.\n",
    "* **Shapefile output for GTFS data**: outputs shapefiles of GTFS for visualization and all sorts of analysis.\n",
    "* **Shapefile output for model output**: outputs shapefiles for the transit modeling results.\n",
    "* **Interagency modeling**: download, process, and integrate transit data from multiple agencies and conduct inter-agency, multiple-period analyses.\n",
    "* **Park-and-ride Integration**: extract and process park and ride information from transit agencies involved and integrate with RoadwaySim modeling (park and ride transit).\n",
    "* **Visualization**: produces trip-level visualization of travel trajectories.\n",
    "* **Parallel Computing**: conduct parallel computing for large datasets.\n",
    "\n",
    "In this workshop, we will introduce one of them: **Generating second by second trip trajectory**"
   ]
  },
  {
   "cell_type": "code",
   "execution_count": null,
   "metadata": {},
   "outputs": [],
   "source": [
    "from program import extensions"
   ]
  },
  {
   "cell_type": "markdown",
   "metadata": {},
   "source": [
    "The module will use some of the data from the previous outputs:"
   ]
  },
  {
   "cell_type": "code",
   "execution_count": null,
   "metadata": {},
   "outputs": [],
   "source": [
    "PROC_GTFS_PATH = './scratch/gtfs_output'\n",
    "TRANSIT_NETWORK_PATH = './data/postproc/linkshp/transit_links.shp'\n",
    "TRANSFER_NETWORK_PATH = './data/transfer_network/edges.shp'\n",
    "NETWORK_PTS_PATH = './data/postproc/linkpts'\n",
    "NEW_TRAJ_PATH = './data/postproc/traj_integrated'\n",
    "SEC_TRAJ_PATH = './data/postproc/traj_sec_by_sec'"
   ]
  },
  {
   "cell_type": "markdown",
   "metadata": {},
   "source": [
    "In generating travel trajectories in points, the model needs to know the granularity that you want the point sampling being conducted (in meters). Typically, for integration with open-source aerial images, 30 meters is a good distance."
   ]
  },
  {
   "cell_type": "code",
   "execution_count": null,
   "metadata": {},
   "outputs": [],
   "source": [
    "distance_delta = 30 "
   ]
  },
  {
   "cell_type": "markdown",
   "metadata": {},
   "source": [
    "**Analysis: converting transit and transfer links to point features**"
   ]
  },
  {
   "cell_type": "code",
   "execution_count": null,
   "metadata": {},
   "outputs": [],
   "source": [
    "extensions.sampling_points_from_network(TRANSIT_NETWORK_PATH, TRANSFER_NETWORK_PATH, NETWORK_PTS_PATH, distance_delta)"
   ]
  },
  {
   "cell_type": "markdown",
   "metadata": {},
   "source": [
    "**Analysis: generating second-by-second trajectories for each trip**"
   ]
  },
  {
   "cell_type": "code",
   "execution_count": null,
   "metadata": {},
   "outputs": [],
   "source": [
    "extensions.traj_second_by_second(PROC_GTFS_PATH, NETWORK_PTS_PATH, NEW_TRAJ_PATH, SEC_TRAJ_PATH)"
   ]
  }
 ],
 "metadata": {
  "colab": {
   "collapsed_sections": [
    "i3zDPacI2St4"
   ],
   "machine_shape": "hm",
   "provenance": []
  },
  "gpuClass": "standard",
  "kernelspec": {
   "display_name": "Python 3 (ipykernel)",
   "language": "python",
   "name": "python3"
  },
  "language_info": {
   "codemirror_mode": {
    "name": "ipython",
    "version": 3
   },
   "file_extension": ".py",
   "mimetype": "text/x-python",
   "name": "python",
   "nbconvert_exporter": "python",
   "pygments_lexer": "ipython3",
   "version": "3.9.17"
  }
 },
 "nbformat": 4,
 "nbformat_minor": 4
}
